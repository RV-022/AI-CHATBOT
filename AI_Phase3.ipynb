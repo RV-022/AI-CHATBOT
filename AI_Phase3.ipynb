{
  "nbformat": 4,
  "nbformat_minor": 0,
  "metadata": {
    "colab": {
      "provenance": []
    },
    "kernelspec": {
      "name": "python3",
      "display_name": "Python 3"
    },
    "language_info": {
      "name": "python"
    }
  },
  "cells": [
    {
      "cell_type": "code",
      "execution_count": 1,
      "metadata": {
        "colab": {
          "base_uri": "https://localhost:8080/",
          "height": 0
        },
        "id": "Xyoxb5BC3yJ0",
        "outputId": "9a5291ae-f241-4231-815c-9263f2960c81"
      },
      "outputs": [
        {
          "output_type": "stream",
          "name": "stdout",
          "text": [
            "                                                   User  \\\n",
            "0                                hi, how are you doing?   \n",
            "1                         i'm fine. how about yourself?   \n",
            "2                   i'm pretty good. thanks for asking.   \n",
            "3                     no problem. so how have you been?   \n",
            "4                      i've been great. what about you?   \n",
            "...                                                 ...   \n",
            "3720    that's a good question. maybe it's not old age.   \n",
            "3721                              are you right-handed?   \n",
            "3722                                  yes. all my life.   \n",
            "3723  you're wearing out your right hand. stop using...   \n",
            "3724        but i do all my writing with my right hand.   \n",
            "\n",
            "                                                Chatbot  \n",
            "0                         i'm fine. how about yourself?  \n",
            "1                   i'm pretty good. thanks for asking.  \n",
            "2                     no problem. so how have you been?  \n",
            "3                      i've been great. what about you?  \n",
            "4              i've been good. i'm in school right now.  \n",
            "...                                                 ...  \n",
            "3720                              are you right-handed?  \n",
            "3721                                  yes. all my life.  \n",
            "3722  you're wearing out your right hand. stop using...  \n",
            "3723        but i do all my writing with my right hand.  \n",
            "3724  start typing instead. that way your left hand ...  \n",
            "\n",
            "[3725 rows x 2 columns]\n"
          ]
        }
      ],
      "source": [
        "import pandas as pd\n",
        "\n",
        "df=pd.read_csv('dialogs.txt',sep='\\t',names=['User','Chatbot'])\n",
        "print(df)\n"
      ]
    },
    {
      "cell_type": "code",
      "source": [
        "import string\n",
        "import re\n",
        "# importing regular expressions\n",
        "punc_lower = lambda x: re.sub('[%s]' % re.escape(string.punctuation), ' ', x.lower())\n",
        "# Lower case conversion\n",
        "remove_n = lambda x: re.sub(\"\\n\", \" \", x)\n",
        "# removing \\n and replacing them with empty value\n",
        "remove_non_ascii = lambda x: re.sub(r'[^\\x00-\\x7f]',r' ', x)\n",
        "# removing non ascii characters\n",
        "alphanumeric = lambda x: re.sub('\\w*\\d\\w*', ' ', x)\n",
        "# removing alpha numeric values\n",
        "df['User'] = df['User'].map(alphanumeric).map(punc_lower).map(remove_n).map(remove_non_ascii)\n",
        "# using map function and applying the function on query column\n",
        "df['Chatbot'] = df['Chatbot'].map(alphanumeric).map(punc_lower).map(remove_n).map(remove_non_ascii)\n",
        "# using map function and applying the function on response column\n",
        "print(df)\n",
        "df.to_csv('modified_dataset.csv', index=False)\n"
      ],
      "metadata": {
        "colab": {
          "base_uri": "https://localhost:8080/",
          "height": 0
        },
        "id": "Ec_PfX-Q-4Hf",
        "outputId": "cbdd68be-2d5c-47d4-f814-c2fa23fec0b1"
      },
      "execution_count": 2,
      "outputs": [
        {
          "output_type": "stream",
          "name": "stdout",
          "text": [
            "                                                   User  \\\n",
            "0                                hi  how are you doing    \n",
            "1                         i m fine  how about yourself    \n",
            "2                   i m pretty good  thanks for asking    \n",
            "3                     no problem  so how have you been    \n",
            "4                      i ve been great  what about you    \n",
            "...                                                 ...   \n",
            "3720    that s a good question  maybe it s not old age    \n",
            "3721                              are you right handed    \n",
            "3722                                  yes  all my life    \n",
            "3723  you re wearing out your right hand  stop using...   \n",
            "3724        but i do all my writing with my right hand    \n",
            "\n",
            "                                                Chatbot  \n",
            "0                         i m fine  how about yourself   \n",
            "1                   i m pretty good  thanks for asking   \n",
            "2                     no problem  so how have you been   \n",
            "3                      i ve been great  what about you   \n",
            "4              i ve been good  i m in school right now   \n",
            "...                                                 ...  \n",
            "3720                              are you right handed   \n",
            "3721                                  yes  all my life   \n",
            "3722  you re wearing out your right hand  stop using...  \n",
            "3723        but i do all my writing with my right hand   \n",
            "3724  start typing instead  that way your left hand ...  \n",
            "\n",
            "[3725 rows x 2 columns]\n"
          ]
        }
      ]
    },
    {
      "cell_type": "code",
      "source": [
        "import torch\n",
        "import spacy\n",
        "import random\n",
        "import torch.nn as nn\n",
        "import torch.optim as optim\n",
        "\n",
        "# Data Preprocessing\n",
        "nlp = spacy.load(\"en_core_web_sm\")\n",
        "with open(\"modified_dataset.csv\", \"r\") as file:\n",
        "    lines = file.readlines()\n",
        "    data = [line.split(\"\\t\") for line in lines]\n"
      ],
      "metadata": {
        "id": "ol7r9McquE6Z"
      },
      "execution_count": 3,
      "outputs": []
    },
    {
      "cell_type": "code",
      "source": [
        "with open(\"modified_dataset.csv\", \"r\") as file:\n",
        "    words = file.read().split()\n",
        "    print(words)\n",
        "    unique_words = set(words)\n",
        "    print(len(unique_words))\n",
        "    print(unique_words)"
      ],
      "metadata": {
        "id": "5Gt6MENFdTMu"
      },
      "execution_count": null,
      "outputs": []
    },
    {
      "cell_type": "code",
      "source": [
        "print(lines)"
      ],
      "metadata": {
        "id": "xXBqBD1j1mFd"
      },
      "execution_count": null,
      "outputs": []
    },
    {
      "cell_type": "code",
      "source": [
        "print(data)"
      ],
      "metadata": {
        "id": "BKNmA4rJ1s6C"
      },
      "execution_count": null,
      "outputs": []
    },
    {
      "cell_type": "code",
      "source": [
        "vocabulary = {\"<PAD>\": 0, \"<UNK>\": 1}  # Initialize with special tokens\n",
        "with open(\"modified_dataset.csv\", \"r\") as file:\n",
        "    for line in file:\n",
        "        words = line.strip().split()  # Split by whitespace for adapting the data format\n",
        "        for word in words:\n",
        "            if word not in vocabulary:\n",
        "                vocabulary[word] = len(vocabulary)\n"
      ],
      "metadata": {
        "id": "6nUJ5Ayb11cf"
      },
      "execution_count": 8,
      "outputs": []
    },
    {
      "cell_type": "code",
      "source": [
        "print(vocabulary)"
      ],
      "metadata": {
        "id": "hD05ym8z2md-"
      },
      "execution_count": null,
      "outputs": []
    },
    {
      "cell_type": "code",
      "source": [
        "def tokenize_and_convert_to_tensor(text, vocabulary, output_size):\n",
        "    # Tokenize the text using spaCy\n",
        "    tokens = [token.text for token in nlp(text)]\n",
        "\n",
        "    # Convert tokens to indices using the provided vocabulary\n",
        "    indices = [vocabulary.get(token, vocabulary[\"<UNK>\"]) for token in tokens]\n",
        "    indices = [min(idx, output_size - 1) for idx in indices]\n",
        "\n",
        "    # Convert the list of indices to a PyTorch tensor\n",
        "    tensor = torch.LongTensor(indices)\n",
        "\n",
        "    return tensor\n"
      ],
      "metadata": {
        "id": "RQ06QMSR3h-T"
      },
      "execution_count": 10,
      "outputs": []
    },
    {
      "cell_type": "code",
      "source": [
        "class SimpleChatbot(nn.Module):\n",
        "    def __init__(self, input_size, hidden_size, output_size):\n",
        "        super(SimpleChatbot, self).__init__()\n",
        "        self.embedding = nn.Embedding(input_size, hidden_size)\n",
        "        self.gru = nn.GRU(hidden_size, hidden_size)\n",
        "        self.out = nn.Linear(hidden_size, output_size)\n",
        "\n",
        "    def forward(self, input):\n",
        "        embedded = self.embedding(input)\n",
        "        output, hidden = self.gru(embedded)\n",
        "        output = self.out(output)\n",
        "        return output, hidden"
      ],
      "metadata": {
        "id": "8sGcR_BA7NcN"
      },
      "execution_count": 11,
      "outputs": []
    },
    {
      "cell_type": "code",
      "source": [
        "pip install transformers"
      ],
      "metadata": {
        "colab": {
          "base_uri": "https://localhost:8080/",
          "height": 0
        },
        "id": "LAiF7CzwpsV0",
        "outputId": "8d2f8d96-7cd6-4924-84e8-2cb4945c921f"
      },
      "execution_count": 12,
      "outputs": [
        {
          "output_type": "stream",
          "name": "stdout",
          "text": [
            "Collecting transformers\n",
            "  Downloading transformers-4.34.1-py3-none-any.whl (7.7 MB)\n",
            "\u001b[2K     \u001b[90m━━━━━━━━━━━━━━━━━━━━━━━━━━━━━━━━━━━━━━━━\u001b[0m \u001b[32m7.7/7.7 MB\u001b[0m \u001b[31m15.2 MB/s\u001b[0m eta \u001b[36m0:00:00\u001b[0m\n",
            "\u001b[?25hRequirement already satisfied: filelock in /usr/local/lib/python3.10/dist-packages (from transformers) (3.12.4)\n",
            "Collecting huggingface-hub<1.0,>=0.16.4 (from transformers)\n",
            "  Downloading huggingface_hub-0.18.0-py3-none-any.whl (301 kB)\n",
            "\u001b[2K     \u001b[90m━━━━━━━━━━━━━━━━━━━━━━━━━━━━━━━━━━━━━━━━\u001b[0m \u001b[32m302.0/302.0 kB\u001b[0m \u001b[31m31.2 MB/s\u001b[0m eta \u001b[36m0:00:00\u001b[0m\n",
            "\u001b[?25hRequirement already satisfied: numpy>=1.17 in /usr/local/lib/python3.10/dist-packages (from transformers) (1.23.5)\n",
            "Requirement already satisfied: packaging>=20.0 in /usr/local/lib/python3.10/dist-packages (from transformers) (23.2)\n",
            "Requirement already satisfied: pyyaml>=5.1 in /usr/local/lib/python3.10/dist-packages (from transformers) (6.0.1)\n",
            "Requirement already satisfied: regex!=2019.12.17 in /usr/local/lib/python3.10/dist-packages (from transformers) (2023.6.3)\n",
            "Requirement already satisfied: requests in /usr/local/lib/python3.10/dist-packages (from transformers) (2.31.0)\n",
            "Collecting tokenizers<0.15,>=0.14 (from transformers)\n",
            "  Downloading tokenizers-0.14.1-cp310-cp310-manylinux_2_17_x86_64.manylinux2014_x86_64.whl (3.8 MB)\n",
            "\u001b[2K     \u001b[90m━━━━━━━━━━━━━━━━━━━━━━━━━━━━━━━━━━━━━━━━\u001b[0m \u001b[32m3.8/3.8 MB\u001b[0m \u001b[31m32.6 MB/s\u001b[0m eta \u001b[36m0:00:00\u001b[0m\n",
            "\u001b[?25hCollecting safetensors>=0.3.1 (from transformers)\n",
            "  Downloading safetensors-0.4.0-cp310-cp310-manylinux_2_17_x86_64.manylinux2014_x86_64.whl (1.3 MB)\n",
            "\u001b[2K     \u001b[90m━━━━━━━━━━━━━━━━━━━━━━━━━━━━━━━━━━━━━━━━\u001b[0m \u001b[32m1.3/1.3 MB\u001b[0m \u001b[31m34.9 MB/s\u001b[0m eta \u001b[36m0:00:00\u001b[0m\n",
            "\u001b[?25hRequirement already satisfied: tqdm>=4.27 in /usr/local/lib/python3.10/dist-packages (from transformers) (4.66.1)\n",
            "Requirement already satisfied: fsspec>=2023.5.0 in /usr/local/lib/python3.10/dist-packages (from huggingface-hub<1.0,>=0.16.4->transformers) (2023.6.0)\n",
            "Requirement already satisfied: typing-extensions>=3.7.4.3 in /usr/local/lib/python3.10/dist-packages (from huggingface-hub<1.0,>=0.16.4->transformers) (4.5.0)\n",
            "Collecting huggingface-hub<1.0,>=0.16.4 (from transformers)\n",
            "  Downloading huggingface_hub-0.17.3-py3-none-any.whl (295 kB)\n",
            "\u001b[2K     \u001b[90m━━━━━━━━━━━━━━━━━━━━━━━━━━━━━━━━━━━━━━━━\u001b[0m \u001b[32m295.0/295.0 kB\u001b[0m \u001b[31m30.4 MB/s\u001b[0m eta \u001b[36m0:00:00\u001b[0m\n",
            "\u001b[?25hRequirement already satisfied: charset-normalizer<4,>=2 in /usr/local/lib/python3.10/dist-packages (from requests->transformers) (3.3.1)\n",
            "Requirement already satisfied: idna<4,>=2.5 in /usr/local/lib/python3.10/dist-packages (from requests->transformers) (3.4)\n",
            "Requirement already satisfied: urllib3<3,>=1.21.1 in /usr/local/lib/python3.10/dist-packages (from requests->transformers) (2.0.7)\n",
            "Requirement already satisfied: certifi>=2017.4.17 in /usr/local/lib/python3.10/dist-packages (from requests->transformers) (2023.7.22)\n",
            "Installing collected packages: safetensors, huggingface-hub, tokenizers, transformers\n",
            "Successfully installed huggingface-hub-0.17.3 safetensors-0.4.0 tokenizers-0.14.1 transformers-4.34.1\n"
          ]
        }
      ]
    },
    {
      "cell_type": "code",
      "source": [
        "pip install flask"
      ],
      "metadata": {
        "colab": {
          "base_uri": "https://localhost:8080/",
          "height": 0
        },
        "id": "rHy0x1fTXUc6",
        "outputId": "aa21da9d-7478-4699-af83-78525c0feadf"
      },
      "execution_count": 13,
      "outputs": [
        {
          "output_type": "stream",
          "name": "stdout",
          "text": [
            "Requirement already satisfied: flask in /usr/local/lib/python3.10/dist-packages (2.2.5)\n",
            "Requirement already satisfied: Werkzeug>=2.2.2 in /usr/local/lib/python3.10/dist-packages (from flask) (3.0.1)\n",
            "Requirement already satisfied: Jinja2>=3.0 in /usr/local/lib/python3.10/dist-packages (from flask) (3.1.2)\n",
            "Requirement already satisfied: itsdangerous>=2.0 in /usr/local/lib/python3.10/dist-packages (from flask) (2.1.2)\n",
            "Requirement already satisfied: click>=8.0 in /usr/local/lib/python3.10/dist-packages (from flask) (8.1.7)\n",
            "Requirement already satisfied: MarkupSafe>=2.0 in /usr/local/lib/python3.10/dist-packages (from Jinja2>=3.0->flask) (2.1.3)\n"
          ]
        }
      ]
    }
  ]
}