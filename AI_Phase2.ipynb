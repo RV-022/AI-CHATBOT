{
  "nbformat": 4,
  "nbformat_minor": 0,
  "metadata": {
    "colab": {
      "provenance": []
    },
    "kernelspec": {
      "name": "python3",
      "display_name": "Python 3"
    },
    "language_info": {
      "name": "python"
    }
  },
  "cells": [
    {
      "cell_type": "code",
      "source": [
        "!pip install nlp_utils"
      ],
      "metadata": {
        "colab": {
          "base_uri": "https://localhost:8080/"
        },
        "id": "xqiDswgAIEgu",
        "outputId": "5840bf1a-f023-40af-9e3a-f55ffba7cfd2"
      },
      "execution_count": null,
      "outputs": [
        {
          "output_type": "stream",
          "name": "stdout",
          "text": [
            "Requirement already satisfied: nlp_utils in /usr/local/lib/python3.10/dist-packages (0.6.2)\n",
            "Requirement already satisfied: nltk in /usr/local/lib/python3.10/dist-packages (from nlp_utils) (3.8.1)\n",
            "Requirement already satisfied: numpy in /usr/local/lib/python3.10/dist-packages (from nlp_utils) (1.23.5)\n",
            "Requirement already satisfied: micro-toolkit in /usr/local/lib/python3.10/dist-packages (from nlp_utils) (0.9.0)\n",
            "Requirement already satisfied: click in /usr/local/lib/python3.10/dist-packages (from nltk->nlp_utils) (8.1.7)\n",
            "Requirement already satisfied: joblib in /usr/local/lib/python3.10/dist-packages (from nltk->nlp_utils) (1.3.2)\n",
            "Requirement already satisfied: regex>=2021.8.3 in /usr/local/lib/python3.10/dist-packages (from nltk->nlp_utils) (2023.6.3)\n",
            "Requirement already satisfied: tqdm in /usr/local/lib/python3.10/dist-packages (from nltk->nlp_utils) (4.66.1)\n"
          ]
        }
      ]
    },
    {
      "cell_type": "code",
      "source": [
        "import nltk\n",
        "import string\n",
        "import pandas as pd\n",
        "import nlp_utils as nu\n",
        "import matplotlib.pyplot as plt\n",
        "df=pd.read_csv('/content/dialogs.txt',sep='\\t',names=['Question','Answer'])"
      ],
      "metadata": {
        "id": "DV1dKfIRCuLx"
      },
      "execution_count": null,
      "outputs": []
    },
    {
      "cell_type": "code",
      "source": [
        "print(df)"
      ],
      "metadata": {
        "colab": {
          "base_uri": "https://localhost:8080/"
        },
        "id": "wStJU4tJEbyy",
        "outputId": "4a48d952-eb93-4077-b835-6e099cd2f2ff"
      },
      "execution_count": null,
      "outputs": [
        {
          "output_type": "stream",
          "name": "stdout",
          "text": [
            "                                               Question  \\\n",
            "0                                hi, how are you doing?   \n",
            "1                         i'm fine. how about yourself?   \n",
            "2                   i'm pretty good. thanks for asking.   \n",
            "3                     no problem. so how have you been?   \n",
            "4                      i've been great. what about you?   \n",
            "...                                                 ...   \n",
            "3720    that's a good question. maybe it's not old age.   \n",
            "3721                              are you right-handed?   \n",
            "3722                                  yes. all my life.   \n",
            "3723  you're wearing out your right hand. stop using...   \n",
            "3724        but i do all my writing with my right hand.   \n",
            "\n",
            "                                                 Answer  \n",
            "0                         i'm fine. how about yourself?  \n",
            "1                   i'm pretty good. thanks for asking.  \n",
            "2                     no problem. so how have you been?  \n",
            "3                      i've been great. what about you?  \n",
            "4              i've been good. i'm in school right now.  \n",
            "...                                                 ...  \n",
            "3720                              are you right-handed?  \n",
            "3721                                  yes. all my life.  \n",
            "3722  you're wearing out your right hand. stop using...  \n",
            "3723        but i do all my writing with my right hand.  \n",
            "3724  start typing instead. that way your left hand ...  \n",
            "\n",
            "[3725 rows x 2 columns]\n"
          ]
        }
      ]
    },
    {
      "cell_type": "code",
      "source": [
        "# Removing special characters\n",
        "import re\n",
        "# importing regular expressions\n",
        "punc_lower = lambda x: re.sub('[%s]' % re.escape(string.punctuation), ' ', x.lower())\n",
        "# Lower case conversion\n",
        "remove_n = lambda x: re.sub(\"\\n\", \" \", x)\n",
        "# removing \\n and replacing them with empty value\n",
        "remove_non_ascii = lambda x: re.sub(r'[^\\x00-\\x7f]',r' ', x)\n",
        "# removing non ascii characters\n",
        "alphanumeric = lambda x: re.sub('\\w*\\d\\w*', ' ', x)\n",
        "# removing alpha numeric values\n",
        "df['Question'] = df['Question'].map(alphanumeric).map(punc_lower).map(remove_n).map(remove_non_ascii)\n",
        "# using map function and applying the function on query column\n",
        "df['Answer'] = df['Answer'].map(alphanumeric).map(punc_lower).map(remove_n).map(remove_non_ascii)\n",
        "# using map function and applying the function on response column\n",
        "print(df)\n",
        "# final cleaned dataset"
      ],
      "metadata": {
        "colab": {
          "base_uri": "https://localhost:8080/"
        },
        "id": "7TuOyOirwmVY",
        "outputId": "280fa021-7548-4434-cfa6-22af9d6a307f"
      },
      "execution_count": null,
      "outputs": [
        {
          "output_type": "stream",
          "name": "stdout",
          "text": [
            "                                               Question  \\\n",
            "0                                hi  how are you doing    \n",
            "1                         i m fine  how about yourself    \n",
            "2                   i m pretty good  thanks for asking    \n",
            "3                     no problem  so how have you been    \n",
            "4                      i ve been great  what about you    \n",
            "...                                                 ...   \n",
            "3720    that s a good question  maybe it s not old age    \n",
            "3721                              are you right handed    \n",
            "3722                                  yes  all my life    \n",
            "3723  you re wearing out your right hand  stop using...   \n",
            "3724        but i do all my writing with my right hand    \n",
            "\n",
            "                                                 Answer  \n",
            "0                         i m fine  how about yourself   \n",
            "1                   i m pretty good  thanks for asking   \n",
            "2                     no problem  so how have you been   \n",
            "3                      i ve been great  what about you   \n",
            "4              i ve been good  i m in school right now   \n",
            "...                                                 ...  \n",
            "3720                              are you right handed   \n",
            "3721                                  yes  all my life   \n",
            "3722  you re wearing out your right hand  stop using...  \n",
            "3723        but i do all my writing with my right hand   \n",
            "3724  start typing instead  that way your left hand ...  \n",
            "\n",
            "[3725 rows x 2 columns]\n"
          ]
        }
      ]
    },
    {
      "cell_type": "code",
      "source": [
        "pip install transformers"
      ],
      "metadata": {
        "colab": {
          "base_uri": "https://localhost:8080/"
        },
        "id": "eGxDsR27q32r",
        "outputId": "c702c676-18a6-4b4d-8ae4-0e27bff18a70"
      },
      "execution_count": null,
      "outputs": [
        {
          "output_type": "stream",
          "name": "stdout",
          "text": [
            "Requirement already satisfied: transformers in /usr/local/lib/python3.10/dist-packages (4.34.0)\n",
            "Requirement already satisfied: filelock in /usr/local/lib/python3.10/dist-packages (from transformers) (3.12.4)\n",
            "Requirement already satisfied: huggingface-hub<1.0,>=0.16.4 in /usr/local/lib/python3.10/dist-packages (from transformers) (0.17.3)\n",
            "Requirement already satisfied: numpy>=1.17 in /usr/local/lib/python3.10/dist-packages (from transformers) (1.23.5)\n",
            "Requirement already satisfied: packaging>=20.0 in /usr/local/lib/python3.10/dist-packages (from transformers) (23.2)\n",
            "Requirement already satisfied: pyyaml>=5.1 in /usr/local/lib/python3.10/dist-packages (from transformers) (6.0.1)\n",
            "Requirement already satisfied: regex!=2019.12.17 in /usr/local/lib/python3.10/dist-packages (from transformers) (2023.6.3)\n",
            "Requirement already satisfied: requests in /usr/local/lib/python3.10/dist-packages (from transformers) (2.31.0)\n",
            "Requirement already satisfied: tokenizers<0.15,>=0.14 in /usr/local/lib/python3.10/dist-packages (from transformers) (0.14.1)\n",
            "Requirement already satisfied: safetensors>=0.3.1 in /usr/local/lib/python3.10/dist-packages (from transformers) (0.4.0)\n",
            "Requirement already satisfied: tqdm>=4.27 in /usr/local/lib/python3.10/dist-packages (from transformers) (4.66.1)\n",
            "Requirement already satisfied: fsspec in /usr/local/lib/python3.10/dist-packages (from huggingface-hub<1.0,>=0.16.4->transformers) (2023.6.0)\n",
            "Requirement already satisfied: typing-extensions>=3.7.4.3 in /usr/local/lib/python3.10/dist-packages (from huggingface-hub<1.0,>=0.16.4->transformers) (4.5.0)\n",
            "Requirement already satisfied: charset-normalizer<4,>=2 in /usr/local/lib/python3.10/dist-packages (from requests->transformers) (3.3.0)\n",
            "Requirement already satisfied: idna<4,>=2.5 in /usr/local/lib/python3.10/dist-packages (from requests->transformers) (3.4)\n",
            "Requirement already satisfied: urllib3<3,>=1.21.1 in /usr/local/lib/python3.10/dist-packages (from requests->transformers) (2.0.6)\n",
            "Requirement already satisfied: certifi>=2017.4.17 in /usr/local/lib/python3.10/dist-packages (from requests->transformers) (2023.7.22)\n"
          ]
        }
      ]
    },
    {
      "cell_type": "code",
      "source": [
        "# Import necessary libraries\n",
        "import numpy as np\n",
        "from sklearn.model_selection import train_test_split\n",
        "from sklearn.ensemble import RandomForestClassifier\n",
        "from sklearn.metrics import accuracy_score\n",
        "from transformers import GPT2LMHeadModel, GPT2Tokenizer\n",
        "import torch\n",
        "import tensorflow as tf\n",
        "from tensorflow.keras.models import Sequential\n",
        "from tensorflow.keras.layers import Embedding, LSTM, Dense"
      ],
      "metadata": {
        "id": "kVQHGNsYsf48"
      },
      "execution_count": null,
      "outputs": []
    },
    {
      "cell_type": "code",
      "source": [
        "# Load and preprocess data\n",
        "X = df['Question']\n",
        "y = df['Answer']\n",
        "\n",
        "# Preprocess text data (tokenization, padding, etc.)\n",
        "\n",
        "# Split data into training, validation, and test sets\n",
        "X_train, X_temp, y_train, y_temp = train_test_split(X, y, test_size=0.2, random_state=42)\n",
        "X_val, X_test, y_val, y_test = train_test_split(X_temp, y_temp, test_size=0.5, random_state=42)\n",
        "\n",
        "# Initialize and train a random forest classifier\n",
        "from sklearn.feature_extraction.text import TfidfVectorizer\n",
        "\n",
        "# Initialize the TF-IDF vectorizer\n",
        "tfidf_vectorizer = TfidfVectorizer(max_features=1000)  # You can adjust max_features as needed\n",
        "\n",
        "# Fit and transform the training data\n",
        "X_train_tfidf = tfidf_vectorizer.fit_transform(X_train)\n",
        "X_val_tfidf = tfidf_vectorizer.transform(X_val)\n",
        "X_test_tfidf = tfidf_vectorizer.transform(X_test)\n",
        "\n",
        "from sklearn.ensemble import RandomForestClassifier\n",
        "\n",
        "# Initialize and train the RandomForestClassifier\n",
        "rf_classifier = RandomForestClassifier(n_estimators=100, random_state=42)\n",
        "rf_classifier.fit(X_train_tfidf, y_train)\n",
        "\n",
        "\n",
        "# Initialize GPT-2 model and tokenizer\n",
        "model_name = \"gpt2\"\n",
        "tokenizer = GPT2Tokenizer.from_pretrained(model_name)\n",
        "model = GPT2LMHeadModel.from_pretrained(model_name)\n",
        "\n",
        "# Fine-tune the GPT-2 model on your dataset\n",
        "\n",
        "# Build and train an LSTM-based model\n",
        "max_seq_length = 50\n",
        "vocab_size = 10000\n",
        "\n",
        "model_lstm = Sequential()\n",
        "model_lstm.add(Embedding(input_dim=vocab_size, output_dim=128, input_length=max_seq_length))\n",
        "model_lstm.add(LSTM(128))\n",
        "model_lstm.add(Dense(1, activation='sigmoid'))\n",
        "model_lstm.compile(loss='binary_crossentropy', optimizer='adam')\n",
        "\n",
        "# Train the LSTM model\n",
        "\n",
        "# Implement ensemble techniques (e.g., stacking)\n",
        "def ensemble_predictions(model1, model2, X):\n",
        "    predictions1 = model1.predict(X)\n",
        "    predictions2 = model2.predict(X)\n",
        "    return (predictions1 + predictions2) / 2\n",
        "\n",
        "# Create an ensemble of your models\n",
        "ensemble_model = ensemble_predictions(rf_classifier, model_lstm, X_val)\n",
        "\n",
        "# Evaluate the ensemble model\n",
        "ensemble_predictions = ensemble_model > 0.5\n",
        "ensemble_accuracy = accuracy_score(y_val, ensemble_predictions)\n",
        "print(f\"Ensemble Model Accuracy: {ensemble_accuracy}\")"
      ],
      "metadata": {
        "id": "bM9hH3CX7qMl"
      },
      "execution_count": null,
      "outputs": []
    }
  ]
}